{
 "cells": [
  {
   "cell_type": "code",
   "execution_count": 9,
   "metadata": {
    "scrolled": true
   },
   "outputs": [
    {
     "name": "stderr",
     "output_type": "stream",
     "text": [
      "/usr/local/lib/python3.5/dist-packages/keras/engine/topology.py:1242: UserWarning: Update your `Conv2D` call to the Keras 2 API: `Conv2D(kernel_size=(3, 3), kernel_constraint=None, input_dtype=\"float32\", batch_input_shape=[None, 1, ..., activation=\"relu\", data_format=\"channels_first\", trainable=True, kernel_initializer=\"glorot_uniform\", name=\"convolution2d_7\", bias_constraint=None, padding=\"valid\", activity_regularizer=None, filters=64, kernel_regularizer=None, bias_regularizer=None, strides=[1, 1], use_bias=True)`\n",
      "  return cls(**config)\n",
      "/usr/local/lib/python3.5/dist-packages/keras/engine/topology.py:1242: UserWarning: Update your `Conv2D` call to the Keras 2 API: `Conv2D(kernel_size=(3, 3), kernel_constraint=None, activation=\"relu\", data_format=\"channels_first\", trainable=True, kernel_initializer=\"glorot_uniform\", name=\"convolution2d_8\", bias_constraint=None, padding=\"valid\", activity_regularizer=None, filters=64, kernel_regularizer=None, bias_regularizer=None, strides=[1, 1], use_bias=True)`\n",
      "  return cls(**config)\n",
      "/usr/local/lib/python3.5/dist-packages/keras/engine/topology.py:1242: UserWarning: Update your `Conv2D` call to the Keras 2 API: `Conv2D(kernel_size=(3, 3), kernel_constraint=None, activation=\"relu\", data_format=\"channels_first\", trainable=True, kernel_initializer=\"glorot_uniform\", name=\"convolution2d_9\", bias_constraint=None, padding=\"valid\", activity_regularizer=None, filters=64, kernel_regularizer=None, bias_regularizer=None, strides=[1, 1], use_bias=True)`\n",
      "  return cls(**config)\n",
      "/usr/local/lib/python3.5/dist-packages/keras/engine/topology.py:1242: UserWarning: Update your `MaxPooling2D` call to the Keras 2 API: `MaxPooling2D(padding=\"valid\", strides=[2, 2], name=\"maxpooling2d_3\", data_format=\"channels_first\", trainable=True, pool_size=[2, 2])`\n",
      "  return cls(**config)\n",
      "/usr/local/lib/python3.5/dist-packages/keras/engine/topology.py:1242: UserWarning: Update your `Conv2D` call to the Keras 2 API: `Conv2D(kernel_size=(3, 3), kernel_constraint=None, activation=\"relu\", data_format=\"channels_first\", trainable=True, kernel_initializer=\"glorot_uniform\", name=\"convolution2d_10\", bias_constraint=None, padding=\"valid\", activity_regularizer=None, filters=32, kernel_regularizer=None, bias_regularizer=None, strides=[1, 1], use_bias=True)`\n",
      "  return cls(**config)\n",
      "/usr/local/lib/python3.5/dist-packages/keras/engine/topology.py:1242: UserWarning: Update your `Conv2D` call to the Keras 2 API: `Conv2D(kernel_size=(3, 3), kernel_constraint=None, activation=\"relu\", data_format=\"channels_first\", trainable=True, kernel_initializer=\"glorot_uniform\", name=\"convolution2d_11\", bias_constraint=None, padding=\"valid\", activity_regularizer=None, filters=32, kernel_regularizer=None, bias_regularizer=None, strides=[1, 1], use_bias=True)`\n",
      "  return cls(**config)\n",
      "/usr/local/lib/python3.5/dist-packages/keras/engine/topology.py:1242: UserWarning: Update your `Conv2D` call to the Keras 2 API: `Conv2D(kernel_size=(3, 3), kernel_constraint=None, activation=\"relu\", data_format=\"channels_first\", trainable=True, kernel_initializer=\"glorot_uniform\", name=\"convolution2d_12\", bias_constraint=None, padding=\"valid\", activity_regularizer=None, filters=32, kernel_regularizer=None, bias_regularizer=None, strides=[1, 1], use_bias=True)`\n",
      "  return cls(**config)\n",
      "/usr/local/lib/python3.5/dist-packages/keras/engine/topology.py:1242: UserWarning: Update your `MaxPooling2D` call to the Keras 2 API: `MaxPooling2D(padding=\"valid\", strides=[2, 2], name=\"maxpooling2d_4\", data_format=\"channels_first\", trainable=True, pool_size=[2, 2])`\n",
      "  return cls(**config)\n",
      "/usr/local/lib/python3.5/dist-packages/keras/engine/topology.py:1242: UserWarning: Update your `Dropout` call to the Keras 2 API: `Dropout(rate=0.5, trainable=True, name=\"dropout_2\")`\n",
      "  return cls(**config)\n",
      "/usr/local/lib/python3.5/dist-packages/keras/engine/topology.py:1242: UserWarning: Update your `Dense` call to the Keras 2 API: `Dense(kernel_constraint=None, kernel_regularizer=None, activity_regularizer=None, name=\"dense_1\", units=128, bias_constraint=None, activation=\"relu\", trainable=True, kernel_initializer=\"glorot_uniform\", use_bias=True, bias_regularizer=None, input_dim=None)`\n",
      "  return cls(**config)\n",
      "/usr/local/lib/python3.5/dist-packages/keras/engine/topology.py:1242: UserWarning: Update your `Dense` call to the Keras 2 API: `Dense(kernel_constraint=None, kernel_regularizer=None, activity_regularizer=None, name=\"dense_2\", units=64, bias_constraint=None, activation=\"relu\", trainable=True, kernel_initializer=\"glorot_uniform\", use_bias=True, bias_regularizer=None, input_dim=None)`\n",
      "  return cls(**config)\n",
      "/usr/local/lib/python3.5/dist-packages/keras/engine/topology.py:1242: UserWarning: Update your `Dropout` call to the Keras 2 API: `Dropout(rate=0.5, trainable=True, name=\"dropout_3\")`\n",
      "  return cls(**config)\n",
      "/usr/local/lib/python3.5/dist-packages/keras/engine/topology.py:1242: UserWarning: Update your `Dense` call to the Keras 2 API: `Dense(kernel_constraint=None, kernel_regularizer=None, activity_regularizer=None, name=\"dense_3\", units=7, bias_constraint=None, activation=\"linear\", trainable=True, kernel_initializer=\"glorot_uniform\", use_bias=True, bias_regularizer=None, input_dim=None)`\n",
      "  return cls(**config)\n"
     ]
    }
   ],
   "source": [
    "from keras.models import load_model\n",
    "model=load_model(\"face_reco.h5\")"
   ]
  },
  {
   "cell_type": "code",
   "execution_count": 22,
   "metadata": {},
   "outputs": [
    {
     "name": "stdout",
     "output_type": "stream",
     "text": [
      "[[  4.73055115e-06   1.09900552e-29   8.98772334e-10   9.99995291e-01\n",
      "    6.00710020e-28   2.45725063e-15   3.26329468e-17]\n",
      " [  5.64921132e-09   6.62553129e-12   9.99308705e-01   5.75338149e-25\n",
      "    1.41363933e-15   6.91301306e-04   2.56563880e-20]\n",
      " [  1.02853263e-23   0.00000000e+00   2.64584079e-21   1.00000000e+00\n",
      "    6.47589775e-16   1.25927140e-38   9.24588501e-22]]\n"
     ]
    }
   ],
   "source": [
    "\n",
    "import numpy as np\n",
    "from keras.preprocessing import image as image_utils\n",
    "test_image = image_utils.load_img('q.jpg', target_size=(48, 48,1))\n",
    "test_image = image_utils.img_to_array(test_image)\n",
    "test_image = np.expand_dims(test_image, axis=0)\n",
    "qq=test_image.reshape(-1,1,48,48)\n",
    "result = model.predict_on_batch(qq)\n",
    "\n",
    "\n",
    "print(result)\n",
    "\n"
   ]
  },
  {
   "cell_type": "code",
   "execution_count": null,
   "metadata": {
    "collapsed": true
   },
   "outputs": [],
   "source": []
  }
 ],
 "metadata": {
  "kernelspec": {
   "display_name": "Python 3",
   "language": "python",
   "name": "python3"
  },
  "language_info": {
   "codemirror_mode": {
    "name": "ipython",
    "version": 3
   },
   "file_extension": ".py",
   "mimetype": "text/x-python",
   "name": "python",
   "nbconvert_exporter": "python",
   "pygments_lexer": "ipython3",
   "version": "3.5.2"
  }
 },
 "nbformat": 4,
 "nbformat_minor": 2
}
